{
  "nbformat": 4,
  "nbformat_minor": 0,
  "metadata": {
    "colab": {
      "name": "Climate_change_quiz_code",
      "provenance": []
    },
    "kernelspec": {
      "name": "python3",
      "display_name": "Python 3"
    },
    "language_info": {
      "name": "python"
    }
  },
  "cells": [
    {
      "cell_type": "code",
      "metadata": {
        "id": "UnZo-Qut6JpT"
      },
      "source": [
        "import numpy as np\n",
        "import pandas as pd\n",
        "import seaborn as sns\n",
        "import matplotlib.pyplot as plt"
      ],
      "execution_count": 18,
      "outputs": []
    },
    {
      "cell_type": "code",
      "metadata": {
        "id": "7R_KUlab6K6T"
      },
      "source": [
        "data = pd.read_csv('https://raw.githubusercontent.com/WalePhenomenon/climate_change/master/fuel_ferc1.csv')"
      ],
      "execution_count": 4,
      "outputs": []
    },
    {
      "cell_type": "code",
      "metadata": {
        "colab": {
          "base_uri": "https://localhost:8080/",
          "height": 224
        },
        "id": "RSQtcb5h6K9z",
        "outputId": "f4b1ac65-4b18-442c-8690-ea657b8f5acd"
      },
      "source": [
        "data.head()"
      ],
      "execution_count": 5,
      "outputs": [
        {
          "output_type": "execute_result",
          "data": {
            "text/html": [
              "<div>\n",
              "<style scoped>\n",
              "    .dataframe tbody tr th:only-of-type {\n",
              "        vertical-align: middle;\n",
              "    }\n",
              "\n",
              "    .dataframe tbody tr th {\n",
              "        vertical-align: top;\n",
              "    }\n",
              "\n",
              "    .dataframe thead th {\n",
              "        text-align: right;\n",
              "    }\n",
              "</style>\n",
              "<table border=\"1\" class=\"dataframe\">\n",
              "  <thead>\n",
              "    <tr style=\"text-align: right;\">\n",
              "      <th></th>\n",
              "      <th>record_id</th>\n",
              "      <th>utility_id_ferc1</th>\n",
              "      <th>report_year</th>\n",
              "      <th>plant_name_ferc1</th>\n",
              "      <th>fuel_type_code_pudl</th>\n",
              "      <th>fuel_unit</th>\n",
              "      <th>fuel_qty_burned</th>\n",
              "      <th>fuel_mmbtu_per_unit</th>\n",
              "      <th>fuel_cost_per_unit_burned</th>\n",
              "      <th>fuel_cost_per_unit_delivered</th>\n",
              "      <th>fuel_cost_per_mmbtu</th>\n",
              "    </tr>\n",
              "  </thead>\n",
              "  <tbody>\n",
              "    <tr>\n",
              "      <th>0</th>\n",
              "      <td>f1_fuel_1994_12_1_0_7</td>\n",
              "      <td>1</td>\n",
              "      <td>1994</td>\n",
              "      <td>rockport</td>\n",
              "      <td>coal</td>\n",
              "      <td>ton</td>\n",
              "      <td>5377489.0</td>\n",
              "      <td>16.590</td>\n",
              "      <td>18.59</td>\n",
              "      <td>18.53</td>\n",
              "      <td>1.121</td>\n",
              "    </tr>\n",
              "    <tr>\n",
              "      <th>1</th>\n",
              "      <td>f1_fuel_1994_12_1_0_10</td>\n",
              "      <td>1</td>\n",
              "      <td>1994</td>\n",
              "      <td>rockport total plant</td>\n",
              "      <td>coal</td>\n",
              "      <td>ton</td>\n",
              "      <td>10486945.0</td>\n",
              "      <td>16.592</td>\n",
              "      <td>18.58</td>\n",
              "      <td>18.53</td>\n",
              "      <td>1.120</td>\n",
              "    </tr>\n",
              "    <tr>\n",
              "      <th>2</th>\n",
              "      <td>f1_fuel_1994_12_2_0_1</td>\n",
              "      <td>2</td>\n",
              "      <td>1994</td>\n",
              "      <td>gorgas</td>\n",
              "      <td>coal</td>\n",
              "      <td>ton</td>\n",
              "      <td>2978683.0</td>\n",
              "      <td>24.130</td>\n",
              "      <td>39.72</td>\n",
              "      <td>38.12</td>\n",
              "      <td>1.650</td>\n",
              "    </tr>\n",
              "    <tr>\n",
              "      <th>3</th>\n",
              "      <td>f1_fuel_1994_12_2_0_7</td>\n",
              "      <td>2</td>\n",
              "      <td>1994</td>\n",
              "      <td>barry</td>\n",
              "      <td>coal</td>\n",
              "      <td>ton</td>\n",
              "      <td>3739484.0</td>\n",
              "      <td>23.950</td>\n",
              "      <td>47.21</td>\n",
              "      <td>45.99</td>\n",
              "      <td>1.970</td>\n",
              "    </tr>\n",
              "    <tr>\n",
              "      <th>4</th>\n",
              "      <td>f1_fuel_1994_12_2_0_10</td>\n",
              "      <td>2</td>\n",
              "      <td>1994</td>\n",
              "      <td>chickasaw</td>\n",
              "      <td>gas</td>\n",
              "      <td>mcf</td>\n",
              "      <td>40533.0</td>\n",
              "      <td>1.000</td>\n",
              "      <td>2.77</td>\n",
              "      <td>2.77</td>\n",
              "      <td>2.570</td>\n",
              "    </tr>\n",
              "  </tbody>\n",
              "</table>\n",
              "</div>"
            ],
            "text/plain": [
              "                record_id  ...  fuel_cost_per_mmbtu\n",
              "0   f1_fuel_1994_12_1_0_7  ...                1.121\n",
              "1  f1_fuel_1994_12_1_0_10  ...                1.120\n",
              "2   f1_fuel_1994_12_2_0_1  ...                1.650\n",
              "3   f1_fuel_1994_12_2_0_7  ...                1.970\n",
              "4  f1_fuel_1994_12_2_0_10  ...                2.570\n",
              "\n",
              "[5 rows x 11 columns]"
            ]
          },
          "metadata": {
            "tags": []
          },
          "execution_count": 5
        }
      ]
    },
    {
      "cell_type": "code",
      "metadata": {
        "colab": {
          "base_uri": "https://localhost:8080/",
          "height": 297
        },
        "id": "rwmaLxVP6LBn",
        "outputId": "9fdfb9dd-5e56-411a-92a0-1f0e2c3ee78d"
      },
      "source": [
        "data.describe()"
      ],
      "execution_count": 6,
      "outputs": [
        {
          "output_type": "execute_result",
          "data": {
            "text/html": [
              "<div>\n",
              "<style scoped>\n",
              "    .dataframe tbody tr th:only-of-type {\n",
              "        vertical-align: middle;\n",
              "    }\n",
              "\n",
              "    .dataframe tbody tr th {\n",
              "        vertical-align: top;\n",
              "    }\n",
              "\n",
              "    .dataframe thead th {\n",
              "        text-align: right;\n",
              "    }\n",
              "</style>\n",
              "<table border=\"1\" class=\"dataframe\">\n",
              "  <thead>\n",
              "    <tr style=\"text-align: right;\">\n",
              "      <th></th>\n",
              "      <th>utility_id_ferc1</th>\n",
              "      <th>report_year</th>\n",
              "      <th>fuel_qty_burned</th>\n",
              "      <th>fuel_mmbtu_per_unit</th>\n",
              "      <th>fuel_cost_per_unit_burned</th>\n",
              "      <th>fuel_cost_per_unit_delivered</th>\n",
              "      <th>fuel_cost_per_mmbtu</th>\n",
              "    </tr>\n",
              "  </thead>\n",
              "  <tbody>\n",
              "    <tr>\n",
              "      <th>count</th>\n",
              "      <td>29523.000000</td>\n",
              "      <td>29523.000000</td>\n",
              "      <td>2.952300e+04</td>\n",
              "      <td>29523.000000</td>\n",
              "      <td>29523.000000</td>\n",
              "      <td>2.952300e+04</td>\n",
              "      <td>29523.000000</td>\n",
              "    </tr>\n",
              "    <tr>\n",
              "      <th>mean</th>\n",
              "      <td>118.601836</td>\n",
              "      <td>2005.806050</td>\n",
              "      <td>2.622119e+06</td>\n",
              "      <td>8.492111</td>\n",
              "      <td>208.649031</td>\n",
              "      <td>9.175704e+02</td>\n",
              "      <td>19.304354</td>\n",
              "    </tr>\n",
              "    <tr>\n",
              "      <th>std</th>\n",
              "      <td>74.178353</td>\n",
              "      <td>7.025483</td>\n",
              "      <td>9.118004e+06</td>\n",
              "      <td>10.600220</td>\n",
              "      <td>2854.490090</td>\n",
              "      <td>6.877593e+04</td>\n",
              "      <td>2091.540939</td>\n",
              "    </tr>\n",
              "    <tr>\n",
              "      <th>min</th>\n",
              "      <td>1.000000</td>\n",
              "      <td>1994.000000</td>\n",
              "      <td>1.000000e+00</td>\n",
              "      <td>0.000001</td>\n",
              "      <td>-276.080000</td>\n",
              "      <td>-8.749370e+02</td>\n",
              "      <td>-41.501000</td>\n",
              "    </tr>\n",
              "    <tr>\n",
              "      <th>25%</th>\n",
              "      <td>55.000000</td>\n",
              "      <td>2000.000000</td>\n",
              "      <td>1.381700e+04</td>\n",
              "      <td>1.024000</td>\n",
              "      <td>5.207000</td>\n",
              "      <td>3.778500e+00</td>\n",
              "      <td>1.940000</td>\n",
              "    </tr>\n",
              "    <tr>\n",
              "      <th>50%</th>\n",
              "      <td>122.000000</td>\n",
              "      <td>2006.000000</td>\n",
              "      <td>2.533220e+05</td>\n",
              "      <td>5.762694</td>\n",
              "      <td>26.000000</td>\n",
              "      <td>1.737100e+01</td>\n",
              "      <td>4.127000</td>\n",
              "    </tr>\n",
              "    <tr>\n",
              "      <th>75%</th>\n",
              "      <td>176.000000</td>\n",
              "      <td>2012.000000</td>\n",
              "      <td>1.424034e+06</td>\n",
              "      <td>17.006000</td>\n",
              "      <td>47.113000</td>\n",
              "      <td>4.213700e+01</td>\n",
              "      <td>7.745000</td>\n",
              "    </tr>\n",
              "    <tr>\n",
              "      <th>max</th>\n",
              "      <td>514.000000</td>\n",
              "      <td>2018.000000</td>\n",
              "      <td>5.558942e+08</td>\n",
              "      <td>341.260000</td>\n",
              "      <td>139358.000000</td>\n",
              "      <td>7.964521e+06</td>\n",
              "      <td>359278.000000</td>\n",
              "    </tr>\n",
              "  </tbody>\n",
              "</table>\n",
              "</div>"
            ],
            "text/plain": [
              "       utility_id_ferc1  ...  fuel_cost_per_mmbtu\n",
              "count      29523.000000  ...         29523.000000\n",
              "mean         118.601836  ...            19.304354\n",
              "std           74.178353  ...          2091.540939\n",
              "min            1.000000  ...           -41.501000\n",
              "25%           55.000000  ...             1.940000\n",
              "50%          122.000000  ...             4.127000\n",
              "75%          176.000000  ...             7.745000\n",
              "max          514.000000  ...        359278.000000\n",
              "\n",
              "[8 rows x 7 columns]"
            ]
          },
          "metadata": {
            "tags": []
          },
          "execution_count": 6
        }
      ]
    },
    {
      "cell_type": "code",
      "metadata": {
        "colab": {
          "base_uri": "https://localhost:8080/"
        },
        "id": "UITVQb9p-jR8",
        "outputId": "0cebbd7e-5fdc-47ab-8af8-71843c239190"
      },
      "source": [
        "data.info()"
      ],
      "execution_count": 22,
      "outputs": [
        {
          "output_type": "stream",
          "text": [
            "<class 'pandas.core.frame.DataFrame'>\n",
            "RangeIndex: 29523 entries, 0 to 29522\n",
            "Data columns (total 11 columns):\n",
            " #   Column                        Non-Null Count  Dtype  \n",
            "---  ------                        --------------  -----  \n",
            " 0   record_id                     29523 non-null  object \n",
            " 1   utility_id_ferc1              29523 non-null  int64  \n",
            " 2   report_year                   29523 non-null  int64  \n",
            " 3   plant_name_ferc1              29523 non-null  object \n",
            " 4   fuel_type_code_pudl           29523 non-null  object \n",
            " 5   fuel_unit                     29343 non-null  object \n",
            " 6   fuel_qty_burned               29523 non-null  float64\n",
            " 7   fuel_mmbtu_per_unit           29523 non-null  float64\n",
            " 8   fuel_cost_per_unit_burned     29523 non-null  float64\n",
            " 9   fuel_cost_per_unit_delivered  29523 non-null  float64\n",
            " 10  fuel_cost_per_mmbtu           29523 non-null  float64\n",
            "dtypes: float64(5), int64(2), object(4)\n",
            "memory usage: 2.5+ MB\n"
          ],
          "name": "stdout"
        }
      ]
    },
    {
      "cell_type": "code",
      "metadata": {
        "colab": {
          "base_uri": "https://localhost:8080/"
        },
        "id": "iWv8Idz6-jV_",
        "outputId": "1fa6065e-67bb-4624-d7fd-4be9a92394c7"
      },
      "source": [
        "a = list(data['record_id'])\n",
        "len(a)"
      ],
      "execution_count": 24,
      "outputs": [
        {
          "output_type": "execute_result",
          "data": {
            "text/plain": [
              "29523"
            ]
          },
          "metadata": {
            "tags": []
          },
          "execution_count": 24
        }
      ]
    },
    {
      "cell_type": "code",
      "metadata": {
        "colab": {
          "base_uri": "https://localhost:8080/"
        },
        "id": "NAwkcVP_-jcv",
        "outputId": "b2434c9b-8551-4b9f-d32e-cc6abf663705"
      },
      "source": [
        "(17/29523)*100"
      ],
      "execution_count": 25,
      "outputs": [
        {
          "output_type": "execute_result",
          "data": {
            "text/plain": [
              "0.05758222402872337"
            ]
          },
          "metadata": {
            "tags": []
          },
          "execution_count": 25
        }
      ]
    },
    {
      "cell_type": "code",
      "metadata": {
        "colab": {
          "base_uri": "https://localhost:8080/"
        },
        "id": "P1EB_NCi7oMW",
        "outputId": "670a69b5-0259-4a0a-dc7f-28af3e8a3c08"
      },
      "source": [
        "data.skew()"
      ],
      "execution_count": 7,
      "outputs": [
        {
          "output_type": "execute_result",
          "data": {
            "text/plain": [
              "utility_id_ferc1                  0.605070\n",
              "report_year                       0.006953\n",
              "fuel_qty_burned                  15.851495\n",
              "fuel_mmbtu_per_unit               4.135217\n",
              "fuel_cost_per_unit_burned        19.787440\n",
              "fuel_cost_per_unit_delivered    105.014227\n",
              "fuel_cost_per_mmbtu             171.675535\n",
              "dtype: float64"
            ]
          },
          "metadata": {
            "tags": []
          },
          "execution_count": 7
        }
      ]
    },
    {
      "cell_type": "code",
      "metadata": {
        "colab": {
          "base_uri": "https://localhost:8080/"
        },
        "id": "dcLsv7mj7oQg",
        "outputId": "d85bb8a6-a347-4865-8957-45b13ba4782d"
      },
      "source": [
        "data.kurt()"
      ],
      "execution_count": 8,
      "outputs": [
        {
          "output_type": "execute_result",
          "data": {
            "text/plain": [
              "utility_id_ferc1                    1.088432\n",
              "report_year                        -1.145656\n",
              "fuel_qty_burned                   651.369450\n",
              "fuel_mmbtu_per_unit                55.595695\n",
              "fuel_cost_per_unit_burned         485.255851\n",
              "fuel_cost_per_unit_delivered    11765.054226\n",
              "fuel_cost_per_mmbtu             29489.132594\n",
              "dtype: float64"
            ]
          },
          "metadata": {
            "tags": []
          },
          "execution_count": 8
        }
      ]
    },
    {
      "cell_type": "code",
      "metadata": {
        "id": "0z-dH8tq7oXN"
      },
      "source": [
        "f = [a for a in data.isnull() == True]"
      ],
      "execution_count": 15,
      "outputs": []
    },
    {
      "cell_type": "code",
      "metadata": {
        "colab": {
          "base_uri": "https://localhost:8080/"
        },
        "id": "PKXQ8xn484Fz",
        "outputId": "51b62085-cdc2-41bd-9f4c-c981d92da000"
      },
      "source": [
        "len(f)"
      ],
      "execution_count": 16,
      "outputs": [
        {
          "output_type": "execute_result",
          "data": {
            "text/plain": [
              "11"
            ]
          },
          "metadata": {
            "tags": []
          },
          "execution_count": 16
        }
      ]
    },
    {
      "cell_type": "code",
      "metadata": {
        "colab": {
          "base_uri": "https://localhost:8080/",
          "height": 1000
        },
        "id": "0gv0AXQC8_-z",
        "outputId": "cd1d5ea7-4693-4cbe-cb5f-2d4b595fcade"
      },
      "source": [
        "plt.figure(figsize=(10,60))\n",
        "sns.heatmap(data.isnull())"
      ],
      "execution_count": 21,
      "outputs": [
        {
          "output_type": "execute_result",
          "data": {
            "text/plain": [
              "<matplotlib.axes._subplots.AxesSubplot at 0x7f0a74360e90>"
            ]
          },
          "metadata": {
            "tags": []
          },
          "execution_count": 21
        },
        {
          "output_type": "display_data",
          "data": {
            "image/png": "[encoded data removed]",
            "text/plain": [
              "<Figure size 720x4320 with 2 Axes>"
            ]
          },
          "metadata": {
            "tags": [],
            "needs_background": "light"
          }
        }
      ]
    },
    {
      "cell_type": "code",
      "metadata": {
        "colab": {
          "base_uri": "https://localhost:8080/",
          "height": 419
        },
        "id": "pCqKSm3v9Nmx",
        "outputId": "414e12fd-31b1-453c-d7a9-7082ee1a5d82"
      },
      "source": [
        "sns.heatmap(data.corr(), annot = True)"
      ],
      "execution_count": 28,
      "outputs": [
        {
          "output_type": "execute_result",
          "data": {
            "text/plain": [
              "<matplotlib.axes._subplots.AxesSubplot at 0x7f0a7075de90>"
            ]
          },
          "metadata": {
            "tags": []
          },
          "execution_count": 28
        },
        {
          "output_type": "display_data",
          "data": {
            "image/png": "[encoded data removed]",
            "text/plain": [
              "<Figure size 432x288 with 2 Axes>"
            ]
          },
          "metadata": {
            "tags": [],
            "needs_background": "light"
          }
        }
      ]
    },
    {
      "cell_type": "code",
      "metadata": {
        "colab": {
          "base_uri": "https://localhost:8080/",
          "height": 297
        },
        "id": "x7ETR24B9Nsc",
        "outputId": "2927ced4-4804-4c9c-87d6-3800a9b443a1"
      },
      "source": [
        "year_2009 = data[data['report_year'] == 2009]\n",
        "year_2009.describe()"
      ],
      "execution_count": 50,
      "outputs": [
        {
          "output_type": "execute_result",
          "data": {
            "text/html": [
              "<div>\n",
              "<style scoped>\n",
              "    .dataframe tbody tr th:only-of-type {\n",
              "        vertical-align: middle;\n",
              "    }\n",
              "\n",
              "    .dataframe tbody tr th {\n",
              "        vertical-align: top;\n",
              "    }\n",
              "\n",
              "    .dataframe thead th {\n",
              "        text-align: right;\n",
              "    }\n",
              "</style>\n",
              "<table border=\"1\" class=\"dataframe\">\n",
              "  <thead>\n",
              "    <tr style=\"text-align: right;\">\n",
              "      <th></th>\n",
              "      <th>utility_id_ferc1</th>\n",
              "      <th>report_year</th>\n",
              "      <th>fuel_qty_burned</th>\n",
              "      <th>fuel_mmbtu_per_unit</th>\n",
              "      <th>fuel_cost_per_unit_burned</th>\n",
              "      <th>fuel_cost_per_unit_delivered</th>\n",
              "      <th>fuel_cost_per_mmbtu</th>\n",
              "    </tr>\n",
              "  </thead>\n",
              "  <tbody>\n",
              "    <tr>\n",
              "      <th>count</th>\n",
              "      <td>1222.000000</td>\n",
              "      <td>1222.0</td>\n",
              "      <td>1.222000e+03</td>\n",
              "      <td>1222.000000</td>\n",
              "      <td>1222.000000</td>\n",
              "      <td>1222.000000</td>\n",
              "      <td>1222.000000</td>\n",
              "    </tr>\n",
              "    <tr>\n",
              "      <th>mean</th>\n",
              "      <td>118.139116</td>\n",
              "      <td>2009.0</td>\n",
              "      <td>2.154993e+06</td>\n",
              "      <td>7.688192</td>\n",
              "      <td>215.699318</td>\n",
              "      <td>652.694163</td>\n",
              "      <td>10.619376</td>\n",
              "    </tr>\n",
              "    <tr>\n",
              "      <th>std</th>\n",
              "      <td>76.871807</td>\n",
              "      <td>0.0</td>\n",
              "      <td>7.016638e+06</td>\n",
              "      <td>8.574580</td>\n",
              "      <td>2626.629546</td>\n",
              "      <td>20888.844544</td>\n",
              "      <td>89.106481</td>\n",
              "    </tr>\n",
              "    <tr>\n",
              "      <th>min</th>\n",
              "      <td>1.000000</td>\n",
              "      <td>2009.0</td>\n",
              "      <td>1.000000e+00</td>\n",
              "      <td>0.000001</td>\n",
              "      <td>0.000000</td>\n",
              "      <td>0.000000</td>\n",
              "      <td>0.433000</td>\n",
              "    </tr>\n",
              "    <tr>\n",
              "      <th>25%</th>\n",
              "      <td>51.000000</td>\n",
              "      <td>2009.0</td>\n",
              "      <td>7.994500e+03</td>\n",
              "      <td>1.021000</td>\n",
              "      <td>7.144500</td>\n",
              "      <td>5.385500</td>\n",
              "      <td>3.036500</td>\n",
              "    </tr>\n",
              "    <tr>\n",
              "      <th>50%</th>\n",
              "      <td>121.000000</td>\n",
              "      <td>2009.0</td>\n",
              "      <td>1.155480e+05</td>\n",
              "      <td>5.788356</td>\n",
              "      <td>34.854000</td>\n",
              "      <td>26.612000</td>\n",
              "      <td>6.229000</td>\n",
              "    </tr>\n",
              "    <tr>\n",
              "      <th>75%</th>\n",
              "      <td>177.000000</td>\n",
              "      <td>2009.0</td>\n",
              "      <td>1.027861e+06</td>\n",
              "      <td>16.183500</td>\n",
              "      <td>78.812500</td>\n",
              "      <td>71.459500</td>\n",
              "      <td>13.107750</td>\n",
              "    </tr>\n",
              "    <tr>\n",
              "      <th>max</th>\n",
              "      <td>432.000000</td>\n",
              "      <td>2009.0</td>\n",
              "      <td>7.938030e+07</td>\n",
              "      <td>115.457463</td>\n",
              "      <td>49650.832000</td>\n",
              "      <td>730166.000000</td>\n",
              "      <td>3115.812000</td>\n",
              "    </tr>\n",
              "  </tbody>\n",
              "</table>\n",
              "</div>"
            ],
            "text/plain": [
              "       utility_id_ferc1  ...  fuel_cost_per_mmbtu\n",
              "count       1222.000000  ...          1222.000000\n",
              "mean         118.139116  ...            10.619376\n",
              "std           76.871807  ...            89.106481\n",
              "min            1.000000  ...             0.433000\n",
              "25%           51.000000  ...             3.036500\n",
              "50%          121.000000  ...             6.229000\n",
              "75%          177.000000  ...            13.107750\n",
              "max          432.000000  ...          3115.812000\n",
              "\n",
              "[8 rows x 7 columns]"
            ]
          },
          "metadata": {
            "tags": []
          },
          "execution_count": 50
        }
      ]
    },
    {
      "cell_type": "code",
      "metadata": {
        "colab": {
          "base_uri": "https://localhost:8080/",
          "height": 297
        },
        "id": "AVL2Zm6WAuMb",
        "outputId": "28894eac-f262-4c15-af53-66ef062ab1bc"
      },
      "source": [
        ""
      ],
      "execution_count": 35,
      "outputs": [
        {
          "output_type": "execute_result",
          "data": {
            "text/html": [
              "<div>\n",
              "<style scoped>\n",
              "    .dataframe tbody tr th:only-of-type {\n",
              "        vertical-align: middle;\n",
              "    }\n",
              "\n",
              "    .dataframe tbody tr th {\n",
              "        vertical-align: top;\n",
              "    }\n",
              "\n",
              "    .dataframe thead th {\n",
              "        text-align: right;\n",
              "    }\n",
              "</style>\n",
              "<table border=\"1\" class=\"dataframe\">\n",
              "  <thead>\n",
              "    <tr style=\"text-align: right;\">\n",
              "      <th></th>\n",
              "      <th>utility_id_ferc1</th>\n",
              "      <th>report_year</th>\n",
              "      <th>fuel_qty_burned</th>\n",
              "      <th>fuel_mmbtu_per_unit</th>\n",
              "      <th>fuel_cost_per_unit_burned</th>\n",
              "      <th>fuel_cost_per_unit_delivered</th>\n",
              "      <th>fuel_cost_per_mmbtu</th>\n",
              "    </tr>\n",
              "  </thead>\n",
              "  <tbody>\n",
              "    <tr>\n",
              "      <th>count</th>\n",
              "      <td>1222.000000</td>\n",
              "      <td>1222.0</td>\n",
              "      <td>1.222000e+03</td>\n",
              "      <td>1222.000000</td>\n",
              "      <td>1222.000000</td>\n",
              "      <td>1222.000000</td>\n",
              "      <td>1222.000000</td>\n",
              "    </tr>\n",
              "    <tr>\n",
              "      <th>mean</th>\n",
              "      <td>118.139116</td>\n",
              "      <td>2009.0</td>\n",
              "      <td>2.154993e+06</td>\n",
              "      <td>7.688192</td>\n",
              "      <td>215.699318</td>\n",
              "      <td>652.694163</td>\n",
              "      <td>10.619376</td>\n",
              "    </tr>\n",
              "    <tr>\n",
              "      <th>std</th>\n",
              "      <td>76.871807</td>\n",
              "      <td>0.0</td>\n",
              "      <td>7.016638e+06</td>\n",
              "      <td>8.574580</td>\n",
              "      <td>2626.629546</td>\n",
              "      <td>20888.844544</td>\n",
              "      <td>89.106481</td>\n",
              "    </tr>\n",
              "    <tr>\n",
              "      <th>min</th>\n",
              "      <td>1.000000</td>\n",
              "      <td>2009.0</td>\n",
              "      <td>1.000000e+00</td>\n",
              "      <td>0.000001</td>\n",
              "      <td>0.000000</td>\n",
              "      <td>0.000000</td>\n",
              "      <td>0.433000</td>\n",
              "    </tr>\n",
              "    <tr>\n",
              "      <th>25%</th>\n",
              "      <td>51.000000</td>\n",
              "      <td>2009.0</td>\n",
              "      <td>7.994500e+03</td>\n",
              "      <td>1.021000</td>\n",
              "      <td>7.144500</td>\n",
              "      <td>5.385500</td>\n",
              "      <td>3.036500</td>\n",
              "    </tr>\n",
              "    <tr>\n",
              "      <th>50%</th>\n",
              "      <td>121.000000</td>\n",
              "      <td>2009.0</td>\n",
              "      <td>1.155480e+05</td>\n",
              "      <td>5.788356</td>\n",
              "      <td>34.854000</td>\n",
              "      <td>26.612000</td>\n",
              "      <td>6.229000</td>\n",
              "    </tr>\n",
              "    <tr>\n",
              "      <th>75%</th>\n",
              "      <td>177.000000</td>\n",
              "      <td>2009.0</td>\n",
              "      <td>1.027861e+06</td>\n",
              "      <td>16.183500</td>\n",
              "      <td>78.812500</td>\n",
              "      <td>71.459500</td>\n",
              "      <td>13.107750</td>\n",
              "    </tr>\n",
              "    <tr>\n",
              "      <th>max</th>\n",
              "      <td>432.000000</td>\n",
              "      <td>2009.0</td>\n",
              "      <td>7.938030e+07</td>\n",
              "      <td>115.457463</td>\n",
              "      <td>49650.832000</td>\n",
              "      <td>730166.000000</td>\n",
              "      <td>3115.812000</td>\n",
              "    </tr>\n",
              "  </tbody>\n",
              "</table>\n",
              "</div>"
            ],
            "text/plain": [
              "       utility_id_ferc1  ...  fuel_cost_per_mmbtu\n",
              "count       1222.000000  ...          1222.000000\n",
              "mean         118.139116  ...            10.619376\n",
              "std           76.871807  ...            89.106481\n",
              "min            1.000000  ...             0.433000\n",
              "25%           51.000000  ...             3.036500\n",
              "50%          121.000000  ...             6.229000\n",
              "75%          177.000000  ...            13.107750\n",
              "max          432.000000  ...          3115.812000\n",
              "\n",
              "[8 rows x 7 columns]"
            ]
          },
          "metadata": {
            "tags": []
          },
          "execution_count": 35
        }
      ]
    },
    {
      "cell_type": "code",
      "metadata": {
        "colab": {
          "base_uri": "https://localhost:8080/",
          "height": 297
        },
        "id": "8IpkeivfAuQp",
        "outputId": "5e82bfcd-9259-4ad8-e39e-1c0c59057bc3"
      },
      "source": [
        "year_1997 = data[data['report_year'] == 1997]\n",
        "year_1997.describe()"
      ],
      "execution_count": 36,
      "outputs": [
        {
          "output_type": "execute_result",
          "data": {
            "text/html": [
              "<div>\n",
              "<style scoped>\n",
              "    .dataframe tbody tr th:only-of-type {\n",
              "        vertical-align: middle;\n",
              "    }\n",
              "\n",
              "    .dataframe tbody tr th {\n",
              "        vertical-align: top;\n",
              "    }\n",
              "\n",
              "    .dataframe thead th {\n",
              "        text-align: right;\n",
              "    }\n",
              "</style>\n",
              "<table border=\"1\" class=\"dataframe\">\n",
              "  <thead>\n",
              "    <tr style=\"text-align: right;\">\n",
              "      <th></th>\n",
              "      <th>utility_id_ferc1</th>\n",
              "      <th>report_year</th>\n",
              "      <th>fuel_qty_burned</th>\n",
              "      <th>fuel_mmbtu_per_unit</th>\n",
              "      <th>fuel_cost_per_unit_burned</th>\n",
              "      <th>fuel_cost_per_unit_delivered</th>\n",
              "      <th>fuel_cost_per_mmbtu</th>\n",
              "    </tr>\n",
              "  </thead>\n",
              "  <tbody>\n",
              "    <tr>\n",
              "      <th>count</th>\n",
              "      <td>1094.000000</td>\n",
              "      <td>1094.0</td>\n",
              "      <td>1.094000e+03</td>\n",
              "      <td>1094.000000</td>\n",
              "      <td>1094.000000</td>\n",
              "      <td>1.094000e+03</td>\n",
              "      <td>1094.000000</td>\n",
              "    </tr>\n",
              "    <tr>\n",
              "      <th>mean</th>\n",
              "      <td>108.366545</td>\n",
              "      <td>1997.0</td>\n",
              "      <td>2.813503e+06</td>\n",
              "      <td>10.247632</td>\n",
              "      <td>149.482132</td>\n",
              "      <td>1.114020e+04</td>\n",
              "      <td>3.113486</td>\n",
              "    </tr>\n",
              "    <tr>\n",
              "      <th>std</th>\n",
              "      <td>60.362734</td>\n",
              "      <td>0.0</td>\n",
              "      <td>7.634741e+06</td>\n",
              "      <td>12.151895</td>\n",
              "      <td>2210.821082</td>\n",
              "      <td>2.569459e+05</td>\n",
              "      <td>8.461000</td>\n",
              "    </tr>\n",
              "    <tr>\n",
              "      <th>min</th>\n",
              "      <td>1.000000</td>\n",
              "      <td>1997.0</td>\n",
              "      <td>9.000000e+00</td>\n",
              "      <td>0.000006</td>\n",
              "      <td>-38.966000</td>\n",
              "      <td>-3.897200e+01</td>\n",
              "      <td>-3.255000</td>\n",
              "    </tr>\n",
              "    <tr>\n",
              "      <th>25%</th>\n",
              "      <td>56.000000</td>\n",
              "      <td>1997.0</td>\n",
              "      <td>3.916500e+04</td>\n",
              "      <td>1.020000</td>\n",
              "      <td>3.048250</td>\n",
              "      <td>2.946500e+00</td>\n",
              "      <td>1.323913</td>\n",
              "    </tr>\n",
              "    <tr>\n",
              "      <th>50%</th>\n",
              "      <td>119.000000</td>\n",
              "      <td>1997.0</td>\n",
              "      <td>4.660285e+05</td>\n",
              "      <td>5.744424</td>\n",
              "      <td>17.994500</td>\n",
              "      <td>1.445150e+01</td>\n",
              "      <td>2.549075</td>\n",
              "    </tr>\n",
              "    <tr>\n",
              "      <th>75%</th>\n",
              "      <td>161.000000</td>\n",
              "      <td>1997.0</td>\n",
              "      <td>1.743505e+06</td>\n",
              "      <td>20.039000</td>\n",
              "      <td>31.090000</td>\n",
              "      <td>2.910400e+01</td>\n",
              "      <td>3.413000</td>\n",
              "    </tr>\n",
              "    <tr>\n",
              "      <th>max</th>\n",
              "      <td>213.000000</td>\n",
              "      <td>1997.0</td>\n",
              "      <td>7.824753e+07</td>\n",
              "      <td>124.879004</td>\n",
              "      <td>48164.000000</td>\n",
              "      <td>7.964521e+06</td>\n",
              "      <td>265.497000</td>\n",
              "    </tr>\n",
              "  </tbody>\n",
              "</table>\n",
              "</div>"
            ],
            "text/plain": [
              "       utility_id_ferc1  ...  fuel_cost_per_mmbtu\n",
              "count       1094.000000  ...          1094.000000\n",
              "mean         108.366545  ...             3.113486\n",
              "std           60.362734  ...             8.461000\n",
              "min            1.000000  ...            -3.255000\n",
              "25%           56.000000  ...             1.323913\n",
              "50%          119.000000  ...             2.549075\n",
              "75%          161.000000  ...             3.413000\n",
              "max          213.000000  ...           265.497000\n",
              "\n",
              "[8 rows x 7 columns]"
            ]
          },
          "metadata": {
            "tags": []
          },
          "execution_count": 36
        }
      ]
    },
    {
      "cell_type": "code",
      "metadata": {
        "colab": {
          "base_uri": "https://localhost:8080/",
          "height": 297
        },
        "id": "3dW1NyjbAuW7",
        "outputId": "f16470bb-bf02-4659-c20f-87c8a8a1d707"
      },
      "source": [
        "year_2018 = data[data['report_year'] == 2018]\n",
        "year_2018.describe()"
      ],
      "execution_count": 37,
      "outputs": [
        {
          "output_type": "execute_result",
          "data": {
            "text/html": [
              "<div>\n",
              "<style scoped>\n",
              "    .dataframe tbody tr th:only-of-type {\n",
              "        vertical-align: middle;\n",
              "    }\n",
              "\n",
              "    .dataframe tbody tr th {\n",
              "        vertical-align: top;\n",
              "    }\n",
              "\n",
              "    .dataframe thead th {\n",
              "        text-align: right;\n",
              "    }\n",
              "</style>\n",
              "<table border=\"1\" class=\"dataframe\">\n",
              "  <thead>\n",
              "    <tr style=\"text-align: right;\">\n",
              "      <th></th>\n",
              "      <th>utility_id_ferc1</th>\n",
              "      <th>report_year</th>\n",
              "      <th>fuel_qty_burned</th>\n",
              "      <th>fuel_mmbtu_per_unit</th>\n",
              "      <th>fuel_cost_per_unit_burned</th>\n",
              "      <th>fuel_cost_per_unit_delivered</th>\n",
              "      <th>fuel_cost_per_mmbtu</th>\n",
              "    </tr>\n",
              "  </thead>\n",
              "  <tbody>\n",
              "    <tr>\n",
              "      <th>count</th>\n",
              "      <td>951.000000</td>\n",
              "      <td>951.0</td>\n",
              "      <td>9.510000e+02</td>\n",
              "      <td>951.000000</td>\n",
              "      <td>951.000000</td>\n",
              "      <td>951.000000</td>\n",
              "      <td>951.000000</td>\n",
              "    </tr>\n",
              "    <tr>\n",
              "      <th>mean</th>\n",
              "      <td>133.669821</td>\n",
              "      <td>2018.0</td>\n",
              "      <td>4.178890e+06</td>\n",
              "      <td>6.596546</td>\n",
              "      <td>232.992036</td>\n",
              "      <td>499.269966</td>\n",
              "      <td>7.233643</td>\n",
              "    </tr>\n",
              "    <tr>\n",
              "      <th>std</th>\n",
              "      <td>88.412742</td>\n",
              "      <td>0.0</td>\n",
              "      <td>1.135144e+07</td>\n",
              "      <td>8.594651</td>\n",
              "      <td>2810.868978</td>\n",
              "      <td>8976.783325</td>\n",
              "      <td>10.704942</td>\n",
              "    </tr>\n",
              "    <tr>\n",
              "      <th>min</th>\n",
              "      <td>1.000000</td>\n",
              "      <td>2018.0</td>\n",
              "      <td>3.000000e+00</td>\n",
              "      <td>0.000001</td>\n",
              "      <td>0.000000</td>\n",
              "      <td>0.000000</td>\n",
              "      <td>0.548000</td>\n",
              "    </tr>\n",
              "    <tr>\n",
              "      <th>25%</th>\n",
              "      <td>57.500000</td>\n",
              "      <td>2018.0</td>\n",
              "      <td>1.923900e+04</td>\n",
              "      <td>1.030000</td>\n",
              "      <td>3.795500</td>\n",
              "      <td>3.330000</td>\n",
              "      <td>2.620000</td>\n",
              "    </tr>\n",
              "    <tr>\n",
              "      <th>50%</th>\n",
              "      <td>134.000000</td>\n",
              "      <td>2018.0</td>\n",
              "      <td>3.722640e+05</td>\n",
              "      <td>1.142000</td>\n",
              "      <td>24.738000</td>\n",
              "      <td>5.840000</td>\n",
              "      <td>3.714000</td>\n",
              "    </tr>\n",
              "    <tr>\n",
              "      <th>75%</th>\n",
              "      <td>186.000000</td>\n",
              "      <td>2018.0</td>\n",
              "      <td>2.344232e+06</td>\n",
              "      <td>5.899992</td>\n",
              "      <td>78.673000</td>\n",
              "      <td>70.439000</td>\n",
              "      <td>12.755000</td>\n",
              "    </tr>\n",
              "    <tr>\n",
              "      <th>max</th>\n",
              "      <td>514.000000</td>\n",
              "      <td>2018.0</td>\n",
              "      <td>1.379941e+08</td>\n",
              "      <td>116.107638</td>\n",
              "      <td>44738.780000</td>\n",
              "      <td>245652.000000</td>\n",
              "      <td>273.821000</td>\n",
              "    </tr>\n",
              "  </tbody>\n",
              "</table>\n",
              "</div>"
            ],
            "text/plain": [
              "       utility_id_ferc1  ...  fuel_cost_per_mmbtu\n",
              "count        951.000000  ...           951.000000\n",
              "mean         133.669821  ...             7.233643\n",
              "std           88.412742  ...            10.704942\n",
              "min            1.000000  ...             0.548000\n",
              "25%           57.500000  ...             2.620000\n",
              "50%          134.000000  ...             3.714000\n",
              "75%          186.000000  ...            12.755000\n",
              "max          514.000000  ...           273.821000\n",
              "\n",
              "[8 rows x 7 columns]"
            ]
          },
          "metadata": {
            "tags": []
          },
          "execution_count": 37
        }
      ]
    },
    {
      "cell_type": "code",
      "metadata": {
        "colab": {
          "base_uri": "https://localhost:8080/",
          "height": 297
        },
        "id": "XauJm5FbCAvX",
        "outputId": "223d5287-735e-4b4f-b772-042a01b9e8e5"
      },
      "source": [
        "year_2004 = data[data['report_year'] == 2004]\n",
        "year_2004.describe()"
      ],
      "execution_count": 38,
      "outputs": [
        {
          "output_type": "execute_result",
          "data": {
            "text/html": [
              "<div>\n",
              "<style scoped>\n",
              "    .dataframe tbody tr th:only-of-type {\n",
              "        vertical-align: middle;\n",
              "    }\n",
              "\n",
              "    .dataframe tbody tr th {\n",
              "        vertical-align: top;\n",
              "    }\n",
              "\n",
              "    .dataframe thead th {\n",
              "        text-align: right;\n",
              "    }\n",
              "</style>\n",
              "<table border=\"1\" class=\"dataframe\">\n",
              "  <thead>\n",
              "    <tr style=\"text-align: right;\">\n",
              "      <th></th>\n",
              "      <th>utility_id_ferc1</th>\n",
              "      <th>report_year</th>\n",
              "      <th>fuel_qty_burned</th>\n",
              "      <th>fuel_mmbtu_per_unit</th>\n",
              "      <th>fuel_cost_per_unit_burned</th>\n",
              "      <th>fuel_cost_per_unit_delivered</th>\n",
              "      <th>fuel_cost_per_mmbtu</th>\n",
              "    </tr>\n",
              "  </thead>\n",
              "  <tbody>\n",
              "    <tr>\n",
              "      <th>count</th>\n",
              "      <td>1192.000000</td>\n",
              "      <td>1192.0</td>\n",
              "      <td>1.192000e+03</td>\n",
              "      <td>1192.000000</td>\n",
              "      <td>1192.000000</td>\n",
              "      <td>1192.000000</td>\n",
              "      <td>1192.000000</td>\n",
              "    </tr>\n",
              "    <tr>\n",
              "      <th>mean</th>\n",
              "      <td>121.123322</td>\n",
              "      <td>2004.0</td>\n",
              "      <td>1.782547e+06</td>\n",
              "      <td>8.332425</td>\n",
              "      <td>154.897398</td>\n",
              "      <td>139.524275</td>\n",
              "      <td>8.441597</td>\n",
              "    </tr>\n",
              "    <tr>\n",
              "      <th>std</th>\n",
              "      <td>72.512675</td>\n",
              "      <td>0.0</td>\n",
              "      <td>8.161217e+06</td>\n",
              "      <td>9.248773</td>\n",
              "      <td>1897.420633</td>\n",
              "      <td>3848.790040</td>\n",
              "      <td>101.732817</td>\n",
              "    </tr>\n",
              "    <tr>\n",
              "      <th>min</th>\n",
              "      <td>1.000000</td>\n",
              "      <td>2004.0</td>\n",
              "      <td>1.000000e+00</td>\n",
              "      <td>0.000001</td>\n",
              "      <td>-30.032000</td>\n",
              "      <td>-313.410000</td>\n",
              "      <td>-2.484000</td>\n",
              "    </tr>\n",
              "    <tr>\n",
              "      <th>25%</th>\n",
              "      <td>56.000000</td>\n",
              "      <td>2004.0</td>\n",
              "      <td>7.269250e+03</td>\n",
              "      <td>1.027982</td>\n",
              "      <td>7.354000</td>\n",
              "      <td>6.515000</td>\n",
              "      <td>1.683110</td>\n",
              "    </tr>\n",
              "    <tr>\n",
              "      <th>50%</th>\n",
              "      <td>127.000000</td>\n",
              "      <td>2004.0</td>\n",
              "      <td>1.002565e+05</td>\n",
              "      <td>5.799822</td>\n",
              "      <td>27.916500</td>\n",
              "      <td>20.900000</td>\n",
              "      <td>6.441500</td>\n",
              "    </tr>\n",
              "    <tr>\n",
              "      <th>75%</th>\n",
              "      <td>182.000000</td>\n",
              "      <td>2004.0</td>\n",
              "      <td>9.953268e+05</td>\n",
              "      <td>16.891000</td>\n",
              "      <td>43.088500</td>\n",
              "      <td>45.840250</td>\n",
              "      <td>7.573250</td>\n",
              "    </tr>\n",
              "    <tr>\n",
              "      <th>max</th>\n",
              "      <td>294.000000</td>\n",
              "      <td>2004.0</td>\n",
              "      <td>1.985774e+08</td>\n",
              "      <td>110.298882</td>\n",
              "      <td>31825.840000</td>\n",
              "      <td>132884.000000</td>\n",
              "      <td>3515.924000</td>\n",
              "    </tr>\n",
              "  </tbody>\n",
              "</table>\n",
              "</div>"
            ],
            "text/plain": [
              "       utility_id_ferc1  ...  fuel_cost_per_mmbtu\n",
              "count       1192.000000  ...          1192.000000\n",
              "mean         121.123322  ...             8.441597\n",
              "std           72.512675  ...           101.732817\n",
              "min            1.000000  ...            -2.484000\n",
              "25%           56.000000  ...             1.683110\n",
              "50%          127.000000  ...             6.441500\n",
              "75%          182.000000  ...             7.573250\n",
              "max          294.000000  ...          3515.924000\n",
              "\n",
              "[8 rows x 7 columns]"
            ]
          },
          "metadata": {
            "tags": []
          },
          "execution_count": 38
        }
      ]
    },
    {
      "cell_type": "code",
      "metadata": {
        "colab": {
          "base_uri": "https://localhost:8080/",
          "height": 297
        },
        "id": "qanaSceQCAze",
        "outputId": "39afa56f-ad80-4f69-87e1-75ac8081c6bb"
      },
      "source": [
        "year_1996 = data[data['report_year'] == 1996]\n",
        "year_1996.describe()"
      ],
      "execution_count": 39,
      "outputs": [
        {
          "output_type": "execute_result",
          "data": {
            "text/html": [
              "<div>\n",
              "<style scoped>\n",
              "    .dataframe tbody tr th:only-of-type {\n",
              "        vertical-align: middle;\n",
              "    }\n",
              "\n",
              "    .dataframe tbody tr th {\n",
              "        vertical-align: top;\n",
              "    }\n",
              "\n",
              "    .dataframe thead th {\n",
              "        text-align: right;\n",
              "    }\n",
              "</style>\n",
              "<table border=\"1\" class=\"dataframe\">\n",
              "  <thead>\n",
              "    <tr style=\"text-align: right;\">\n",
              "      <th></th>\n",
              "      <th>utility_id_ferc1</th>\n",
              "      <th>report_year</th>\n",
              "      <th>fuel_qty_burned</th>\n",
              "      <th>fuel_mmbtu_per_unit</th>\n",
              "      <th>fuel_cost_per_unit_burned</th>\n",
              "      <th>fuel_cost_per_unit_delivered</th>\n",
              "      <th>fuel_cost_per_mmbtu</th>\n",
              "    </tr>\n",
              "  </thead>\n",
              "  <tbody>\n",
              "    <tr>\n",
              "      <th>count</th>\n",
              "      <td>1088.000000</td>\n",
              "      <td>1088.0</td>\n",
              "      <td>1.088000e+03</td>\n",
              "      <td>1088.000000</td>\n",
              "      <td>1088.000000</td>\n",
              "      <td>1.088000e+03</td>\n",
              "      <td>1088.000000</td>\n",
              "    </tr>\n",
              "    <tr>\n",
              "      <th>mean</th>\n",
              "      <td>108.714154</td>\n",
              "      <td>1996.0</td>\n",
              "      <td>2.544754e+06</td>\n",
              "      <td>10.778041</td>\n",
              "      <td>79.434995</td>\n",
              "      <td>9.196706e+03</td>\n",
              "      <td>2.695880</td>\n",
              "    </tr>\n",
              "    <tr>\n",
              "      <th>std</th>\n",
              "      <td>62.481365</td>\n",
              "      <td>0.0</td>\n",
              "      <td>7.060054e+06</td>\n",
              "      <td>13.320081</td>\n",
              "      <td>1414.289963</td>\n",
              "      <td>2.447674e+05</td>\n",
              "      <td>2.810726</td>\n",
              "    </tr>\n",
              "    <tr>\n",
              "      <th>min</th>\n",
              "      <td>1.000000</td>\n",
              "      <td>1996.0</td>\n",
              "      <td>8.000000e+00</td>\n",
              "      <td>0.000006</td>\n",
              "      <td>-45.130000</td>\n",
              "      <td>-4.405000e+01</td>\n",
              "      <td>-41.501000</td>\n",
              "    </tr>\n",
              "    <tr>\n",
              "      <th>25%</th>\n",
              "      <td>51.000000</td>\n",
              "      <td>1996.0</td>\n",
              "      <td>3.565300e+04</td>\n",
              "      <td>1.020000</td>\n",
              "      <td>3.055250</td>\n",
              "      <td>2.935000e+00</td>\n",
              "      <td>1.297750</td>\n",
              "    </tr>\n",
              "    <tr>\n",
              "      <th>50%</th>\n",
              "      <td>120.000000</td>\n",
              "      <td>1996.0</td>\n",
              "      <td>4.174740e+05</td>\n",
              "      <td>5.797701</td>\n",
              "      <td>18.964000</td>\n",
              "      <td>1.627000e+01</td>\n",
              "      <td>2.299500</td>\n",
              "    </tr>\n",
              "    <tr>\n",
              "      <th>75%</th>\n",
              "      <td>163.000000</td>\n",
              "      <td>1996.0</td>\n",
              "      <td>1.525624e+06</td>\n",
              "      <td>20.952500</td>\n",
              "      <td>31.470500</td>\n",
              "      <td>3.057250e+01</td>\n",
              "      <td>3.359000</td>\n",
              "    </tr>\n",
              "    <tr>\n",
              "      <th>max</th>\n",
              "      <td>230.000000</td>\n",
              "      <td>1996.0</td>\n",
              "      <td>8.569617e+07</td>\n",
              "      <td>125.120000</td>\n",
              "      <td>33150.000000</td>\n",
              "      <td>7.793482e+06</td>\n",
              "      <td>32.613000</td>\n",
              "    </tr>\n",
              "  </tbody>\n",
              "</table>\n",
              "</div>"
            ],
            "text/plain": [
              "       utility_id_ferc1  ...  fuel_cost_per_mmbtu\n",
              "count       1088.000000  ...          1088.000000\n",
              "mean         108.714154  ...             2.695880\n",
              "std           62.481365  ...             2.810726\n",
              "min            1.000000  ...           -41.501000\n",
              "25%           51.000000  ...             1.297750\n",
              "50%          120.000000  ...             2.299500\n",
              "75%          163.000000  ...             3.359000\n",
              "max          230.000000  ...            32.613000\n",
              "\n",
              "[8 rows x 7 columns]"
            ]
          },
          "metadata": {
            "tags": []
          },
          "execution_count": 39
        }
      ]
    },
    {
      "cell_type": "code",
      "metadata": {
        "colab": {
          "base_uri": "https://localhost:8080/",
          "height": 297
        },
        "id": "lZgeCb4_CA5C",
        "outputId": "0ff12552-9a74-4580-b8df-c19b5ddb723c"
      },
      "source": [
        "year_1994 = data[data['report_year'] == 1994]\n",
        "year_1994.describe()"
      ],
      "execution_count": 41,
      "outputs": [
        {
          "output_type": "execute_result",
          "data": {
            "text/html": [
              "<div>\n",
              "<style scoped>\n",
              "    .dataframe tbody tr th:only-of-type {\n",
              "        vertical-align: middle;\n",
              "    }\n",
              "\n",
              "    .dataframe tbody tr th {\n",
              "        vertical-align: top;\n",
              "    }\n",
              "\n",
              "    .dataframe thead th {\n",
              "        text-align: right;\n",
              "    }\n",
              "</style>\n",
              "<table border=\"1\" class=\"dataframe\">\n",
              "  <thead>\n",
              "    <tr style=\"text-align: right;\">\n",
              "      <th></th>\n",
              "      <th>utility_id_ferc1</th>\n",
              "      <th>report_year</th>\n",
              "      <th>fuel_qty_burned</th>\n",
              "      <th>fuel_mmbtu_per_unit</th>\n",
              "      <th>fuel_cost_per_unit_burned</th>\n",
              "      <th>fuel_cost_per_unit_delivered</th>\n",
              "      <th>fuel_cost_per_mmbtu</th>\n",
              "    </tr>\n",
              "  </thead>\n",
              "  <tbody>\n",
              "    <tr>\n",
              "      <th>count</th>\n",
              "      <td>1235.000000</td>\n",
              "      <td>1235.0</td>\n",
              "      <td>1.235000e+03</td>\n",
              "      <td>1235.000000</td>\n",
              "      <td>1235.000000</td>\n",
              "      <td>1235.000000</td>\n",
              "      <td>1235.000000</td>\n",
              "    </tr>\n",
              "    <tr>\n",
              "      <th>mean</th>\n",
              "      <td>106.120648</td>\n",
              "      <td>1994.0</td>\n",
              "      <td>2.724018e+06</td>\n",
              "      <td>10.638098</td>\n",
              "      <td>213.191996</td>\n",
              "      <td>63.636060</td>\n",
              "      <td>3.086977</td>\n",
              "    </tr>\n",
              "    <tr>\n",
              "      <th>std</th>\n",
              "      <td>61.637376</td>\n",
              "      <td>0.0</td>\n",
              "      <td>8.204347e+06</td>\n",
              "      <td>13.708367</td>\n",
              "      <td>2639.254133</td>\n",
              "      <td>1288.748659</td>\n",
              "      <td>13.120614</td>\n",
              "    </tr>\n",
              "    <tr>\n",
              "      <th>min</th>\n",
              "      <td>1.000000</td>\n",
              "      <td>1994.0</td>\n",
              "      <td>2.000000e+00</td>\n",
              "      <td>0.000006</td>\n",
              "      <td>-57.490000</td>\n",
              "      <td>-58.800000</td>\n",
              "      <td>-3.003000</td>\n",
              "    </tr>\n",
              "    <tr>\n",
              "      <th>25%</th>\n",
              "      <td>49.000000</td>\n",
              "      <td>1994.0</td>\n",
              "      <td>2.890950e+04</td>\n",
              "      <td>1.021000</td>\n",
              "      <td>2.667000</td>\n",
              "      <td>2.326000</td>\n",
              "      <td>1.389170</td>\n",
              "    </tr>\n",
              "    <tr>\n",
              "      <th>50%</th>\n",
              "      <td>115.000000</td>\n",
              "      <td>1994.0</td>\n",
              "      <td>3.484640e+05</td>\n",
              "      <td>5.686920</td>\n",
              "      <td>20.290000</td>\n",
              "      <td>13.156000</td>\n",
              "      <td>1.972000</td>\n",
              "    </tr>\n",
              "    <tr>\n",
              "      <th>75%</th>\n",
              "      <td>161.000000</td>\n",
              "      <td>1994.0</td>\n",
              "      <td>1.423604e+06</td>\n",
              "      <td>21.062000</td>\n",
              "      <td>35.766500</td>\n",
              "      <td>30.910000</td>\n",
              "      <td>3.003500</td>\n",
              "    </tr>\n",
              "    <tr>\n",
              "      <th>max</th>\n",
              "      <td>208.000000</td>\n",
              "      <td>1994.0</td>\n",
              "      <td>8.937973e+07</td>\n",
              "      <td>124.860000</td>\n",
              "      <td>44009.190000</td>\n",
              "      <td>45115.000000</td>\n",
              "      <td>443.336000</td>\n",
              "    </tr>\n",
              "  </tbody>\n",
              "</table>\n",
              "</div>"
            ],
            "text/plain": [
              "       utility_id_ferc1  ...  fuel_cost_per_mmbtu\n",
              "count       1235.000000  ...          1235.000000\n",
              "mean         106.120648  ...             3.086977\n",
              "std           61.637376  ...            13.120614\n",
              "min            1.000000  ...            -3.003000\n",
              "25%           49.000000  ...             1.389170\n",
              "50%          115.000000  ...             1.972000\n",
              "75%          161.000000  ...             3.003500\n",
              "max          208.000000  ...           443.336000\n",
              "\n",
              "[8 rows x 7 columns]"
            ]
          },
          "metadata": {
            "tags": []
          },
          "execution_count": 41
        }
      ]
    },
    {
      "cell_type": "code",
      "metadata": {
        "colab": {
          "base_uri": "https://localhost:8080/"
        },
        "id": "9PFwaiUxCBAG",
        "outputId": "59c21b04-f903-4539-aeef-7a7d3725ba0d"
      },
      "source": [
        "((126.684-213.19)/213.19)*100"
      ],
      "execution_count": 42,
      "outputs": [
        {
          "output_type": "execute_result",
          "data": {
            "text/plain": [
              "-40.576950138374215"
            ]
          },
          "metadata": {
            "tags": []
          },
          "execution_count": 42
        }
      ]
    },
    {
      "cell_type": "code",
      "metadata": {
        "colab": {
          "base_uri": "https://localhost:8080/",
          "height": 297
        },
        "id": "En9kvTj59Nwa",
        "outputId": "353b43ef-545c-4cf8-97d3-bc05c9212a1f"
      },
      "source": [
        "fuel_coal = data[data['fuel_type_code_pudl'] == 'coal']\n",
        "fuel_coal.describe()"
      ],
      "execution_count": 43,
      "outputs": [
        {
          "output_type": "execute_result",
          "data": {
            "text/html": [
              "<div>\n",
              "<style scoped>\n",
              "    .dataframe tbody tr th:only-of-type {\n",
              "        vertical-align: middle;\n",
              "    }\n",
              "\n",
              "    .dataframe tbody tr th {\n",
              "        vertical-align: top;\n",
              "    }\n",
              "\n",
              "    .dataframe thead th {\n",
              "        text-align: right;\n",
              "    }\n",
              "</style>\n",
              "<table border=\"1\" class=\"dataframe\">\n",
              "  <thead>\n",
              "    <tr style=\"text-align: right;\">\n",
              "      <th></th>\n",
              "      <th>utility_id_ferc1</th>\n",
              "      <th>report_year</th>\n",
              "      <th>fuel_qty_burned</th>\n",
              "      <th>fuel_mmbtu_per_unit</th>\n",
              "      <th>fuel_cost_per_unit_burned</th>\n",
              "      <th>fuel_cost_per_unit_delivered</th>\n",
              "      <th>fuel_cost_per_mmbtu</th>\n",
              "    </tr>\n",
              "  </thead>\n",
              "  <tbody>\n",
              "    <tr>\n",
              "      <th>count</th>\n",
              "      <td>8547.000000</td>\n",
              "      <td>8547.000000</td>\n",
              "      <td>8.547000e+03</td>\n",
              "      <td>8547.000000</td>\n",
              "      <td>8547.000000</td>\n",
              "      <td>8547.000000</td>\n",
              "      <td>8547.000000</td>\n",
              "    </tr>\n",
              "    <tr>\n",
              "      <th>mean</th>\n",
              "      <td>115.637534</td>\n",
              "      <td>2004.623143</td>\n",
              "      <td>1.903473e+06</td>\n",
              "      <td>20.762780</td>\n",
              "      <td>67.421830</td>\n",
              "      <td>116.951141</td>\n",
              "      <td>1.787190</td>\n",
              "    </tr>\n",
              "    <tr>\n",
              "      <th>std</th>\n",
              "      <td>72.859332</td>\n",
              "      <td>7.137389</td>\n",
              "      <td>7.206434e+06</td>\n",
              "      <td>3.557467</td>\n",
              "      <td>943.771433</td>\n",
              "      <td>4043.732781</td>\n",
              "      <td>0.802419</td>\n",
              "    </tr>\n",
              "    <tr>\n",
              "      <th>min</th>\n",
              "      <td>1.000000</td>\n",
              "      <td>1994.000000</td>\n",
              "      <td>3.000000e+00</td>\n",
              "      <td>10.168000</td>\n",
              "      <td>0.000000</td>\n",
              "      <td>-40.725000</td>\n",
              "      <td>0.500000</td>\n",
              "    </tr>\n",
              "    <tr>\n",
              "      <th>25%</th>\n",
              "      <td>51.000000</td>\n",
              "      <td>1998.000000</td>\n",
              "      <td>4.599130e+05</td>\n",
              "      <td>17.408000</td>\n",
              "      <td>23.958500</td>\n",
              "      <td>21.740000</td>\n",
              "      <td>1.210000</td>\n",
              "    </tr>\n",
              "    <tr>\n",
              "      <th>50%</th>\n",
              "      <td>122.000000</td>\n",
              "      <td>2004.000000</td>\n",
              "      <td>1.018766e+06</td>\n",
              "      <td>21.250000</td>\n",
              "      <td>33.318000</td>\n",
              "      <td>31.407000</td>\n",
              "      <td>1.586000</td>\n",
              "    </tr>\n",
              "    <tr>\n",
              "      <th>75%</th>\n",
              "      <td>174.000000</td>\n",
              "      <td>2011.000000</td>\n",
              "      <td>2.104158e+06</td>\n",
              "      <td>24.141000</td>\n",
              "      <td>44.668000</td>\n",
              "      <td>43.380500</td>\n",
              "      <td>2.163000</td>\n",
              "    </tr>\n",
              "    <tr>\n",
              "      <th>max</th>\n",
              "      <td>514.000000</td>\n",
              "      <td>2018.000000</td>\n",
              "      <td>5.558942e+08</td>\n",
              "      <td>28.926390</td>\n",
              "      <td>44033.320000</td>\n",
              "      <td>270604.000000</td>\n",
              "      <td>6.895000</td>\n",
              "    </tr>\n",
              "  </tbody>\n",
              "</table>\n",
              "</div>"
            ],
            "text/plain": [
              "       utility_id_ferc1  ...  fuel_cost_per_mmbtu\n",
              "count       8547.000000  ...          8547.000000\n",
              "mean         115.637534  ...             1.787190\n",
              "std           72.859332  ...             0.802419\n",
              "min            1.000000  ...             0.500000\n",
              "25%           51.000000  ...             1.210000\n",
              "50%          122.000000  ...             1.586000\n",
              "75%          174.000000  ...             2.163000\n",
              "max          514.000000  ...             6.895000\n",
              "\n",
              "[8 rows x 7 columns]"
            ]
          },
          "metadata": {
            "tags": []
          },
          "execution_count": 43
        }
      ]
    },
    {
      "cell_type": "code",
      "metadata": {
        "colab": {
          "base_uri": "https://localhost:8080/",
          "height": 297
        },
        "id": "sTH3qN3bDaBJ",
        "outputId": "db0886b4-5d77-4297-a642-fba577fe9ec5"
      },
      "source": [
        "fuel_gas = data[data['fuel_type_code_pudl'] == 'gas']\n",
        "fuel_gas.describe()"
      ],
      "execution_count": 46,
      "outputs": [
        {
          "output_type": "execute_result",
          "data": {
            "text/html": [
              "<div>\n",
              "<style scoped>\n",
              "    .dataframe tbody tr th:only-of-type {\n",
              "        vertical-align: middle;\n",
              "    }\n",
              "\n",
              "    .dataframe tbody tr th {\n",
              "        vertical-align: top;\n",
              "    }\n",
              "\n",
              "    .dataframe thead th {\n",
              "        text-align: right;\n",
              "    }\n",
              "</style>\n",
              "<table border=\"1\" class=\"dataframe\">\n",
              "  <thead>\n",
              "    <tr style=\"text-align: right;\">\n",
              "      <th></th>\n",
              "      <th>utility_id_ferc1</th>\n",
              "      <th>report_year</th>\n",
              "      <th>fuel_qty_burned</th>\n",
              "      <th>fuel_mmbtu_per_unit</th>\n",
              "      <th>fuel_cost_per_unit_burned</th>\n",
              "      <th>fuel_cost_per_unit_delivered</th>\n",
              "      <th>fuel_cost_per_mmbtu</th>\n",
              "    </tr>\n",
              "  </thead>\n",
              "  <tbody>\n",
              "    <tr>\n",
              "      <th>count</th>\n",
              "      <td>11486.000000</td>\n",
              "      <td>11486.000000</td>\n",
              "      <td>1.148600e+04</td>\n",
              "      <td>11486.000000</td>\n",
              "      <td>11486.000000</td>\n",
              "      <td>11486.000000</td>\n",
              "      <td>11486.000000</td>\n",
              "    </tr>\n",
              "    <tr>\n",
              "      <th>mean</th>\n",
              "      <td>124.122062</td>\n",
              "      <td>2005.978060</td>\n",
              "      <td>4.843183e+06</td>\n",
              "      <td>1.021913</td>\n",
              "      <td>13.659397</td>\n",
              "      <td>12.095172</td>\n",
              "      <td>5.408876</td>\n",
              "    </tr>\n",
              "    <tr>\n",
              "      <th>std</th>\n",
              "      <td>73.743929</td>\n",
              "      <td>7.280214</td>\n",
              "      <td>1.180446e+07</td>\n",
              "      <td>0.025270</td>\n",
              "      <td>163.286631</td>\n",
              "      <td>157.032849</td>\n",
              "      <td>3.546643</td>\n",
              "    </tr>\n",
              "    <tr>\n",
              "      <th>min</th>\n",
              "      <td>1.000000</td>\n",
              "      <td>1994.000000</td>\n",
              "      <td>1.000000e+00</td>\n",
              "      <td>0.827100</td>\n",
              "      <td>0.000000</td>\n",
              "      <td>0.000000</td>\n",
              "      <td>1.005000</td>\n",
              "    </tr>\n",
              "    <tr>\n",
              "      <th>25%</th>\n",
              "      <td>56.000000</td>\n",
              "      <td>1999.250000</td>\n",
              "      <td>5.805600e+04</td>\n",
              "      <td>1.010000</td>\n",
              "      <td>3.230000</td>\n",
              "      <td>2.830000</td>\n",
              "      <td>3.130000</td>\n",
              "    </tr>\n",
              "    <tr>\n",
              "      <th>50%</th>\n",
              "      <td>134.000000</td>\n",
              "      <td>2006.000000</td>\n",
              "      <td>3.969905e+05</td>\n",
              "      <td>1.022000</td>\n",
              "      <td>4.650000</td>\n",
              "      <td>4.295000</td>\n",
              "      <td>4.500000</td>\n",
              "    </tr>\n",
              "    <tr>\n",
              "      <th>75%</th>\n",
              "      <td>177.000000</td>\n",
              "      <td>2012.000000</td>\n",
              "      <td>3.198895e+06</td>\n",
              "      <td>1.032488</td>\n",
              "      <td>6.960000</td>\n",
              "      <td>6.492500</td>\n",
              "      <td>6.682250</td>\n",
              "    </tr>\n",
              "    <tr>\n",
              "      <th>max</th>\n",
              "      <td>513.000000</td>\n",
              "      <td>2018.000000</td>\n",
              "      <td>1.663854e+08</td>\n",
              "      <td>1.199200</td>\n",
              "      <td>10490.000000</td>\n",
              "      <td>10490.000000</td>\n",
              "      <td>34.974790</td>\n",
              "    </tr>\n",
              "  </tbody>\n",
              "</table>\n",
              "</div>"
            ],
            "text/plain": [
              "       utility_id_ferc1  ...  fuel_cost_per_mmbtu\n",
              "count      11486.000000  ...         11486.000000\n",
              "mean         124.122062  ...             5.408876\n",
              "std           73.743929  ...             3.546643\n",
              "min            1.000000  ...             1.005000\n",
              "25%           56.000000  ...             3.130000\n",
              "50%          134.000000  ...             4.500000\n",
              "75%          177.000000  ...             6.682250\n",
              "max          513.000000  ...            34.974790\n",
              "\n",
              "[8 rows x 7 columns]"
            ]
          },
          "metadata": {
            "tags": []
          },
          "execution_count": 46
        }
      ]
    },
    {
      "cell_type": "code",
      "metadata": {
        "colab": {
          "base_uri": "https://localhost:8080/"
        },
        "id": "tkPaz3oFDaFm",
        "outputId": "f04a001b-acd6-4a57-cc91-8f4a545bac6a"
      },
      "source": [
        "data['fuel_type_code_pudl'].unique()"
      ],
      "execution_count": 47,
      "outputs": [
        {
          "output_type": "execute_result",
          "data": {
            "text/plain": [
              "array(['coal', 'gas', 'nuclear', 'oil', 'waste', 'other'], dtype=object)"
            ]
          },
          "metadata": {
            "tags": []
          },
          "execution_count": 47
        }
      ]
    },
    {
      "cell_type": "code",
      "metadata": {
        "colab": {
          "base_uri": "https://localhost:8080/",
          "height": 297
        },
        "id": "S5tE4m6wDaOZ",
        "outputId": "c8343f80-99fd-4e41-bcd0-9b98d5d3b491"
      },
      "source": [
        "fuel_other = data[data['fuel_type_code_pudl'] == 'other']\n",
        "fuel_other.describe()"
      ],
      "execution_count": 49,
      "outputs": [
        {
          "output_type": "execute_result",
          "data": {
            "text/html": [
              "<div>\n",
              "<style scoped>\n",
              "    .dataframe tbody tr th:only-of-type {\n",
              "        vertical-align: middle;\n",
              "    }\n",
              "\n",
              "    .dataframe tbody tr th {\n",
              "        vertical-align: top;\n",
              "    }\n",
              "\n",
              "    .dataframe thead th {\n",
              "        text-align: right;\n",
              "    }\n",
              "</style>\n",
              "<table border=\"1\" class=\"dataframe\">\n",
              "  <thead>\n",
              "    <tr style=\"text-align: right;\">\n",
              "      <th></th>\n",
              "      <th>utility_id_ferc1</th>\n",
              "      <th>report_year</th>\n",
              "      <th>fuel_qty_burned</th>\n",
              "      <th>fuel_mmbtu_per_unit</th>\n",
              "      <th>fuel_cost_per_unit_burned</th>\n",
              "      <th>fuel_cost_per_unit_delivered</th>\n",
              "      <th>fuel_cost_per_mmbtu</th>\n",
              "    </tr>\n",
              "  </thead>\n",
              "  <tbody>\n",
              "    <tr>\n",
              "      <th>count</th>\n",
              "      <td>167.000000</td>\n",
              "      <td>167.000000</td>\n",
              "      <td>1.670000e+02</td>\n",
              "      <td>167.000000</td>\n",
              "      <td>167.000000</td>\n",
              "      <td>167.000000</td>\n",
              "      <td>167.000000</td>\n",
              "    </tr>\n",
              "    <tr>\n",
              "      <th>mean</th>\n",
              "      <td>110.467066</td>\n",
              "      <td>2001.700599</td>\n",
              "      <td>2.948137e+06</td>\n",
              "      <td>0.572752</td>\n",
              "      <td>18.253856</td>\n",
              "      <td>16.871485</td>\n",
              "      <td>155.084910</td>\n",
              "    </tr>\n",
              "    <tr>\n",
              "      <th>std</th>\n",
              "      <td>47.145735</td>\n",
              "      <td>5.712505</td>\n",
              "      <td>3.227287e+07</td>\n",
              "      <td>6.334943</td>\n",
              "      <td>29.016882</td>\n",
              "      <td>27.659197</td>\n",
              "      <td>641.276735</td>\n",
              "    </tr>\n",
              "    <tr>\n",
              "      <th>min</th>\n",
              "      <td>2.000000</td>\n",
              "      <td>1994.000000</td>\n",
              "      <td>2.500000e+01</td>\n",
              "      <td>0.000048</td>\n",
              "      <td>-119.040000</td>\n",
              "      <td>-118.340000</td>\n",
              "      <td>-5.750000</td>\n",
              "    </tr>\n",
              "    <tr>\n",
              "      <th>25%</th>\n",
              "      <td>89.000000</td>\n",
              "      <td>1997.000000</td>\n",
              "      <td>2.802500e+03</td>\n",
              "      <td>0.007187</td>\n",
              "      <td>2.632500</td>\n",
              "      <td>2.483000</td>\n",
              "      <td>0.507000</td>\n",
              "    </tr>\n",
              "    <tr>\n",
              "      <th>50%</th>\n",
              "      <td>99.000000</td>\n",
              "      <td>2000.000000</td>\n",
              "      <td>1.104600e+04</td>\n",
              "      <td>0.013950</td>\n",
              "      <td>9.064000</td>\n",
              "      <td>8.500000</td>\n",
              "      <td>1.640000</td>\n",
              "    </tr>\n",
              "    <tr>\n",
              "      <th>75%</th>\n",
              "      <td>132.000000</td>\n",
              "      <td>2006.000000</td>\n",
              "      <td>5.869520e+05</td>\n",
              "      <td>0.138457</td>\n",
              "      <td>20.055000</td>\n",
              "      <td>19.853000</td>\n",
              "      <td>3.027000</td>\n",
              "    </tr>\n",
              "    <tr>\n",
              "      <th>max</th>\n",
              "      <td>281.000000</td>\n",
              "      <td>2016.000000</td>\n",
              "      <td>4.172977e+08</td>\n",
              "      <td>81.910118</td>\n",
              "      <td>134.547000</td>\n",
              "      <td>132.209000</td>\n",
              "      <td>3515.924000</td>\n",
              "    </tr>\n",
              "  </tbody>\n",
              "</table>\n",
              "</div>"
            ],
            "text/plain": [
              "       utility_id_ferc1  ...  fuel_cost_per_mmbtu\n",
              "count        167.000000  ...           167.000000\n",
              "mean         110.467066  ...           155.084910\n",
              "std           47.145735  ...           641.276735\n",
              "min            2.000000  ...            -5.750000\n",
              "25%           89.000000  ...             0.507000\n",
              "50%           99.000000  ...             1.640000\n",
              "75%          132.000000  ...             3.027000\n",
              "max          281.000000  ...          3515.924000\n",
              "\n",
              "[8 rows x 7 columns]"
            ]
          },
          "metadata": {
            "tags": []
          },
          "execution_count": 49
        }
      ]
    },
    {
      "cell_type": "code",
      "metadata": {
        "id": "R_QKB2HSDaVG"
      },
      "source": [
        ""
      ],
      "execution_count": null,
      "outputs": []
    },
    {
      "cell_type": "code",
      "metadata": {
        "id": "XG8t5fS-DabM"
      },
      "source": [
        ""
      ],
      "execution_count": null,
      "outputs": []
    }
  ]
}